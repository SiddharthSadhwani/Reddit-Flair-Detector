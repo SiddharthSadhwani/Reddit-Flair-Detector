{
 "cells": [
  {
   "cell_type": "code",
   "execution_count": 1,
   "metadata": {},
   "outputs": [],
   "source": [
    "import pandas as pd\n",
    "import numpy as np\n",
    "import seaborn as sns\n",
    "import matplotlib.pyplot as plt\n",
    "%matplotlib inline\n",
    "import pymongo\n",
    "from pymongo import MongoClient\n",
    "from bs4 import BeautifulSoup\n",
    "import re\n",
    "import nltk\n",
    "from nltk.corpus import stopwords\n",
    "import lxml"
   ]
  },
  {
   "cell_type": "markdown",
   "metadata": {},
   "source": [
    "# Fetching Uncleaned Data from csv"
   ]
  },
  {
   "cell_type": "code",
   "execution_count": 2,
   "metadata": {},
   "outputs": [],
   "source": [
    "df=pd.read_csv('Before_cleaning.csv',sep=',')"
   ]
  },
  {
   "cell_type": "markdown",
   "metadata": {},
   "source": [
    "# Verifying the data"
   ]
  },
  {
   "cell_type": "code",
   "execution_count": 3,
   "metadata": {},
   "outputs": [
    {
     "data": {
      "text/html": [
       "<div>\n",
       "<style scoped>\n",
       "    .dataframe tbody tr th:only-of-type {\n",
       "        vertical-align: middle;\n",
       "    }\n",
       "\n",
       "    .dataframe tbody tr th {\n",
       "        vertical-align: top;\n",
       "    }\n",
       "\n",
       "    .dataframe thead th {\n",
       "        text-align: right;\n",
       "    }\n",
       "</style>\n",
       "<table border=\"1\" class=\"dataframe\">\n",
       "  <thead>\n",
       "    <tr style=\"text-align: right;\">\n",
       "      <th></th>\n",
       "      <th>Searched flair</th>\n",
       "      <th>flair</th>\n",
       "      <th>title</th>\n",
       "      <th>score</th>\n",
       "      <th>id</th>\n",
       "      <th>author</th>\n",
       "      <th>body</th>\n",
       "      <th>created</th>\n",
       "      <th>comms_num</th>\n",
       "      <th>url</th>\n",
       "      <th>time</th>\n",
       "      <th>comments</th>\n",
       "    </tr>\n",
       "  </thead>\n",
       "  <tbody>\n",
       "    <tr>\n",
       "      <th>0</th>\n",
       "      <td>Coronavirus</td>\n",
       "      <td>Coronavirus</td>\n",
       "      <td>Dumped by Mumbai's upper middle and middle cla...</td>\n",
       "      <td>73</td>\n",
       "      <td>g602bs</td>\n",
       "      <td>hipporama</td>\n",
       "      <td>NaN</td>\n",
       "      <td>1.587587e+09</td>\n",
       "      <td>8</td>\n",
       "      <td>https://www.firstpost.com/health/coronavirus-o...</td>\n",
       "      <td>2020-04-23 01:46:04</td>\n",
       "      <td>I am not even at my own house. Have paid both ...</td>\n",
       "    </tr>\n",
       "    <tr>\n",
       "      <th>1</th>\n",
       "      <td>Coronavirus</td>\n",
       "      <td>Coronavirus</td>\n",
       "      <td>India says infection growth rate has slowed do...</td>\n",
       "      <td>7</td>\n",
       "      <td>g63l42</td>\n",
       "      <td>nishubikash</td>\n",
       "      <td>NaN</td>\n",
       "      <td>1.587599e+09</td>\n",
       "      <td>7</td>\n",
       "      <td>https://www.thehindu.com/news/national/coronav...</td>\n",
       "      <td>2020-04-23 05:21:01</td>\n",
       "      <td>\\*cough\\* whoreshit \\*cough\\* Guy: *ready to h...</td>\n",
       "    </tr>\n",
       "    <tr>\n",
       "      <th>2</th>\n",
       "      <td>Coronavirus</td>\n",
       "      <td>Coronavirus</td>\n",
       "      <td>H1B holders, are you worried about a possible ...</td>\n",
       "      <td>149</td>\n",
       "      <td>g5ha81</td>\n",
       "      <td>kais92</td>\n",
       "      <td>My name is Kai Schultz. I'm a journalist with ...</td>\n",
       "      <td>1.587512e+09</td>\n",
       "      <td>108</td>\n",
       "      <td>https://www.reddit.com/r/india/comments/g5ha81...</td>\n",
       "      <td>2020-04-22 04:57:55</td>\n",
       "      <td>Maybe US isn't a very attractive immigration t...</td>\n",
       "    </tr>\n",
       "    <tr>\n",
       "      <th>3</th>\n",
       "      <td>Coronavirus</td>\n",
       "      <td>Coronavirus</td>\n",
       "      <td>Karnataka government has decided to partially ...</td>\n",
       "      <td>13</td>\n",
       "      <td>g65keb</td>\n",
       "      <td>_ConfusedDeveloper</td>\n",
       "      <td>NaN</td>\n",
       "      <td>1.587606e+09</td>\n",
       "      <td>2</td>\n",
       "      <td>https://www.hindustantimes.com/india-news/karn...</td>\n",
       "      <td>2020-04-23 07:08:25</td>\n",
       "      <td>Well, now we just have to wait for the manager...</td>\n",
       "    </tr>\n",
       "    <tr>\n",
       "      <th>4</th>\n",
       "      <td>Coronavirus</td>\n",
       "      <td>Coronavirus</td>\n",
       "      <td>Deep rot in West Bengal during COVID-19 lockdo...</td>\n",
       "      <td>8</td>\n",
       "      <td>g66r3z</td>\n",
       "      <td>ghatroad</td>\n",
       "      <td>NaN</td>\n",
       "      <td>1.587610e+09</td>\n",
       "      <td>0</td>\n",
       "      <td>https://www.firstpost.com/health/deep-rot-in-w...</td>\n",
       "      <td>2020-04-23 08:11:37</td>\n",
       "      <td>NaN</td>\n",
       "    </tr>\n",
       "    <tr>\n",
       "      <th>5</th>\n",
       "      <td>Coronavirus</td>\n",
       "      <td>Coronavirus</td>\n",
       "      <td>Bid by BECIL (Under Ministry Of Information an...</td>\n",
       "      <td>13</td>\n",
       "      <td>g619tp</td>\n",
       "      <td>india_ko_vanakkam</td>\n",
       "      <td>NaN</td>\n",
       "      <td>1.587592e+09</td>\n",
       "      <td>3</td>\n",
       "      <td>https://www.becil.com/uploads/tender/Corrigend...</td>\n",
       "      <td>2020-04-23 03:08:53</td>\n",
       "      <td>Specifications of the tool they have asked for...</td>\n",
       "    </tr>\n",
       "    <tr>\n",
       "      <th>6</th>\n",
       "      <td>Coronavirus</td>\n",
       "      <td>Coronavirus</td>\n",
       "      <td>Aarogya Setu will include telemedicine, greate...</td>\n",
       "      <td>9</td>\n",
       "      <td>g63iaw</td>\n",
       "      <td>india_ko_vanakkam</td>\n",
       "      <td>NaN</td>\n",
       "      <td>1.587599e+09</td>\n",
       "      <td>1</td>\n",
       "      <td>https://www.medianama.com/2020/04/223-aarogya-...</td>\n",
       "      <td>2020-04-23 05:16:29</td>\n",
       "      <td>What happened to ChaddiChandan's \"India Shack\"...</td>\n",
       "    </tr>\n",
       "    <tr>\n",
       "      <th>7</th>\n",
       "      <td>Coronavirus</td>\n",
       "      <td>Coronavirus</td>\n",
       "      <td>Indian Embassies undertake herculean task of c...</td>\n",
       "      <td>19</td>\n",
       "      <td>g5ykod</td>\n",
       "      <td>i_Killed_Reddit</td>\n",
       "      <td>NaN</td>\n",
       "      <td>1.587579e+09</td>\n",
       "      <td>0</td>\n",
       "      <td>https://economictimes.indiatimes.com/news/poli...</td>\n",
       "      <td>2020-04-22 23:46:35</td>\n",
       "      <td>NaN</td>\n",
       "    </tr>\n",
       "    <tr>\n",
       "      <th>8</th>\n",
       "      <td>Coronavirus</td>\n",
       "      <td>Coronavirus</td>\n",
       "      <td>Mumbai Hospital Issues Notice To Docs On Strik...</td>\n",
       "      <td>27</td>\n",
       "      <td>g5wiv8</td>\n",
       "      <td>bookshearer</td>\n",
       "      <td>NaN</td>\n",
       "      <td>1.587568e+09</td>\n",
       "      <td>0</td>\n",
       "      <td>https://www.youtube.com/watch?v=p_6j_xdANNU</td>\n",
       "      <td>2020-04-22 20:38:38</td>\n",
       "      <td>NaN</td>\n",
       "    </tr>\n",
       "    <tr>\n",
       "      <th>9</th>\n",
       "      <td>Coronavirus</td>\n",
       "      <td>Coronavirus</td>\n",
       "      <td>Lockdown scenes in Kurnool, Andhra Pradesh whi...</td>\n",
       "      <td>1809</td>\n",
       "      <td>g5xgab</td>\n",
       "      <td>drunk_sithlord</td>\n",
       "      <td>NaN</td>\n",
       "      <td>1.587573e+09</td>\n",
       "      <td>113</td>\n",
       "      <td>https://i.redd.it/h77492fyybu41.jpg</td>\n",
       "      <td>2020-04-22 22:02:48</td>\n",
       "      <td>What do you expect if you allow the market to ...</td>\n",
       "    </tr>\n",
       "  </tbody>\n",
       "</table>\n",
       "</div>"
      ],
      "text/plain": [
       "  Searched flair        flair  \\\n",
       "0    Coronavirus  Coronavirus   \n",
       "1    Coronavirus  Coronavirus   \n",
       "2    Coronavirus  Coronavirus   \n",
       "3    Coronavirus  Coronavirus   \n",
       "4    Coronavirus  Coronavirus   \n",
       "5    Coronavirus  Coronavirus   \n",
       "6    Coronavirus  Coronavirus   \n",
       "7    Coronavirus  Coronavirus   \n",
       "8    Coronavirus  Coronavirus   \n",
       "9    Coronavirus  Coronavirus   \n",
       "\n",
       "                                               title  score      id  \\\n",
       "0  Dumped by Mumbai's upper middle and middle cla...     73  g602bs   \n",
       "1  India says infection growth rate has slowed do...      7  g63l42   \n",
       "2  H1B holders, are you worried about a possible ...    149  g5ha81   \n",
       "3  Karnataka government has decided to partially ...     13  g65keb   \n",
       "4  Deep rot in West Bengal during COVID-19 lockdo...      8  g66r3z   \n",
       "5  Bid by BECIL (Under Ministry Of Information an...     13  g619tp   \n",
       "6  Aarogya Setu will include telemedicine, greate...      9  g63iaw   \n",
       "7  Indian Embassies undertake herculean task of c...     19  g5ykod   \n",
       "8  Mumbai Hospital Issues Notice To Docs On Strik...     27  g5wiv8   \n",
       "9  Lockdown scenes in Kurnool, Andhra Pradesh whi...   1809  g5xgab   \n",
       "\n",
       "               author                                               body  \\\n",
       "0           hipporama                                                NaN   \n",
       "1         nishubikash                                                NaN   \n",
       "2              kais92  My name is Kai Schultz. I'm a journalist with ...   \n",
       "3  _ConfusedDeveloper                                                NaN   \n",
       "4            ghatroad                                                NaN   \n",
       "5   india_ko_vanakkam                                                NaN   \n",
       "6   india_ko_vanakkam                                                NaN   \n",
       "7     i_Killed_Reddit                                                NaN   \n",
       "8         bookshearer                                                NaN   \n",
       "9      drunk_sithlord                                                NaN   \n",
       "\n",
       "        created  comms_num                                                url  \\\n",
       "0  1.587587e+09          8  https://www.firstpost.com/health/coronavirus-o...   \n",
       "1  1.587599e+09          7  https://www.thehindu.com/news/national/coronav...   \n",
       "2  1.587512e+09        108  https://www.reddit.com/r/india/comments/g5ha81...   \n",
       "3  1.587606e+09          2  https://www.hindustantimes.com/india-news/karn...   \n",
       "4  1.587610e+09          0  https://www.firstpost.com/health/deep-rot-in-w...   \n",
       "5  1.587592e+09          3  https://www.becil.com/uploads/tender/Corrigend...   \n",
       "6  1.587599e+09          1  https://www.medianama.com/2020/04/223-aarogya-...   \n",
       "7  1.587579e+09          0  https://economictimes.indiatimes.com/news/poli...   \n",
       "8  1.587568e+09          0        https://www.youtube.com/watch?v=p_6j_xdANNU   \n",
       "9  1.587573e+09        113                https://i.redd.it/h77492fyybu41.jpg   \n",
       "\n",
       "                  time                                           comments  \n",
       "0  2020-04-23 01:46:04  I am not even at my own house. Have paid both ...  \n",
       "1  2020-04-23 05:21:01  \\*cough\\* whoreshit \\*cough\\* Guy: *ready to h...  \n",
       "2  2020-04-22 04:57:55  Maybe US isn't a very attractive immigration t...  \n",
       "3  2020-04-23 07:08:25  Well, now we just have to wait for the manager...  \n",
       "4  2020-04-23 08:11:37                                                NaN  \n",
       "5  2020-04-23 03:08:53  Specifications of the tool they have asked for...  \n",
       "6  2020-04-23 05:16:29  What happened to ChaddiChandan's \"India Shack\"...  \n",
       "7  2020-04-22 23:46:35                                                NaN  \n",
       "8  2020-04-22 20:38:38                                                NaN  \n",
       "9  2020-04-22 22:02:48  What do you expect if you allow the market to ...  "
      ]
     },
     "execution_count": 3,
     "metadata": {},
     "output_type": "execute_result"
    }
   ],
   "source": [
    "flair_list=[\"Coronavirus\",\"Non-Political\",\"Politics\",\"Science/Technology\",\"Policy/Economy\",\"Photography\",\"AskIndia\",\"Scheduled\",\"Sports\",\"Food\",\"Business/Finance\",\"[R]eddiquette\"]\n",
    "df.head(10)"
   ]
  },
  {
   "cell_type": "markdown",
   "metadata": {},
   "source": [
    "# Our Data has 12 columns and 1501 datapoints"
   ]
  },
  {
   "cell_type": "code",
   "execution_count": 4,
   "metadata": {},
   "outputs": [
    {
     "data": {
      "text/plain": [
       "(1501, 12)"
      ]
     },
     "execution_count": 4,
     "metadata": {},
     "output_type": "execute_result"
    }
   ],
   "source": [
    "df.shape"
   ]
  },
  {
   "cell_type": "markdown",
   "metadata": {},
   "source": [
    "# We can see that the scrapped uncleaned Data is fairly balanced for all flairs"
   ]
  },
  {
   "cell_type": "code",
   "execution_count": 5,
   "metadata": {},
   "outputs": [
    {
     "data": {
      "text/plain": [
       "<matplotlib.axes._subplots.AxesSubplot at 0x2031c54d8b0>"
      ]
     },
     "execution_count": 5,
     "metadata": {},
     "output_type": "execute_result"
    },
    {
     "data": {
      "image/png": "[encoded data removed]",
      "text/plain": [
       "<Figure size 720x288 with 1 Axes>"
      ]
     },
     "metadata": {
      "needs_background": "light"
     },
     "output_type": "display_data"
    }
   ],
   "source": [
    "plt.figure(figsize=(10,4))\n",
    "df[\"flair\"].value_counts().plot(kind='bar')"
   ]
  },
  {
   "cell_type": "code",
   "execution_count": 6,
   "metadata": {},
   "outputs": [
    {
     "data": {
      "text/plain": [
       "array(['Searched flair', 'flair', 'title', 'score', 'id', 'author',\n",
       "       'body', 'created', 'comms_num', 'url', 'time', 'comments'],\n",
       "      dtype=object)"
      ]
     },
     "execution_count": 6,
     "metadata": {},
     "output_type": "execute_result"
    }
   ],
   "source": [
    "df.columns.values"
   ]
  },
  {
   "cell_type": "markdown",
   "metadata": {},
   "source": [
    "# Mathematical analysis for columns with integral values"
   ]
  },
  {
   "cell_type": "code",
   "execution_count": 7,
   "metadata": {},
   "outputs": [
    {
     "data": {
      "text/html": [
       "<div>\n",
       "<style scoped>\n",
       "    .dataframe tbody tr th:only-of-type {\n",
       "        vertical-align: middle;\n",
       "    }\n",
       "\n",
       "    .dataframe tbody tr th {\n",
       "        vertical-align: top;\n",
       "    }\n",
       "\n",
       "    .dataframe thead th {\n",
       "        text-align: right;\n",
       "    }\n",
       "</style>\n",
       "<table border=\"1\" class=\"dataframe\">\n",
       "  <thead>\n",
       "    <tr style=\"text-align: right;\">\n",
       "      <th></th>\n",
       "      <th>score</th>\n",
       "      <th>created</th>\n",
       "      <th>comms_num</th>\n",
       "    </tr>\n",
       "  </thead>\n",
       "  <tbody>\n",
       "    <tr>\n",
       "      <th>count</th>\n",
       "      <td>1501.000000</td>\n",
       "      <td>1.501000e+03</td>\n",
       "      <td>1501.000000</td>\n",
       "    </tr>\n",
       "    <tr>\n",
       "      <th>mean</th>\n",
       "      <td>376.235843</td>\n",
       "      <td>1.583230e+09</td>\n",
       "      <td>194.432378</td>\n",
       "    </tr>\n",
       "    <tr>\n",
       "      <th>std</th>\n",
       "      <td>953.100363</td>\n",
       "      <td>6.368557e+06</td>\n",
       "      <td>542.032458</td>\n",
       "    </tr>\n",
       "    <tr>\n",
       "      <th>min</th>\n",
       "      <td>0.000000</td>\n",
       "      <td>1.549745e+09</td>\n",
       "      <td>0.000000</td>\n",
       "    </tr>\n",
       "    <tr>\n",
       "      <th>25%</th>\n",
       "      <td>22.000000</td>\n",
       "      <td>1.582831e+09</td>\n",
       "      <td>8.000000</td>\n",
       "    </tr>\n",
       "    <tr>\n",
       "      <th>50%</th>\n",
       "      <td>78.000000</td>\n",
       "      <td>1.585787e+09</td>\n",
       "      <td>30.000000</td>\n",
       "    </tr>\n",
       "    <tr>\n",
       "      <th>75%</th>\n",
       "      <td>280.000000</td>\n",
       "      <td>1.587027e+09</td>\n",
       "      <td>94.000000</td>\n",
       "    </tr>\n",
       "    <tr>\n",
       "      <th>max</th>\n",
       "      <td>17894.000000</td>\n",
       "      <td>1.587617e+09</td>\n",
       "      <td>8339.000000</td>\n",
       "    </tr>\n",
       "  </tbody>\n",
       "</table>\n",
       "</div>"
      ],
      "text/plain": [
       "              score       created    comms_num\n",
       "count   1501.000000  1.501000e+03  1501.000000\n",
       "mean     376.235843  1.583230e+09   194.432378\n",
       "std      953.100363  6.368557e+06   542.032458\n",
       "min        0.000000  1.549745e+09     0.000000\n",
       "25%       22.000000  1.582831e+09     8.000000\n",
       "50%       78.000000  1.585787e+09    30.000000\n",
       "75%      280.000000  1.587027e+09    94.000000\n",
       "max    17894.000000  1.587617e+09  8339.000000"
      ]
     },
     "execution_count": 7,
     "metadata": {},
     "output_type": "execute_result"
    }
   ],
   "source": [
    "df.describe()"
   ]
  },
  {
   "cell_type": "markdown",
   "metadata": {},
   "source": [
    "## We can observe that most of the entries in body of a post have NaN i.e. thet are empty and this might effect the accuracy of our models hence we decide to replace them with an empty string."
   ]
  },
  {
   "cell_type": "code",
   "execution_count": 8,
   "metadata": {},
   "outputs": [
    {
     "data": {
      "text/plain": [
       "<matplotlib.axes._subplots.AxesSubplot at 0x2033e4cb6d0>"
      ]
     },
     "execution_count": 8,
     "metadata": {},
     "output_type": "execute_result"
    },
    {
     "data": {
      "image/png": "[encoded data removed]",
      "text/plain": [
       "<Figure size 432x288 with 1 Axes>"
      ]
     },
     "metadata": {
      "needs_background": "light"
     },
     "output_type": "display_data"
    }
   ],
   "source": [
    "sns.heatmap(df.isnull(),cbar=False,yticklabels=False,cmap = 'viridis')"
   ]
  },
  {
   "cell_type": "code",
   "execution_count": 9,
   "metadata": {},
   "outputs": [],
   "source": [
    "df['body'].fillna(\"\", inplace = True) \n",
    "df['comments'].fillna(\"\",inplace=True)"
   ]
  },
  {
   "cell_type": "markdown",
   "metadata": {},
   "source": [
    "# Heatmap once all the NaN have been replaced"
   ]
  },
  {
   "cell_type": "code",
   "execution_count": 10,
   "metadata": {},
   "outputs": [
    {
     "data": {
      "text/plain": [
       "<matplotlib.axes._subplots.AxesSubplot at 0x2033e4bd850>"
      ]
     },
     "execution_count": 10,
     "metadata": {},
     "output_type": "execute_result"
    },
    {
     "data": {
      "image/png": "[encoded data removed]",
      "text/plain": [
       "<Figure size 432x288 with 1 Axes>"
      ]
     },
     "metadata": {
      "needs_background": "light"
     },
     "output_type": "display_data"
    }
   ],
   "source": [
    "sns.heatmap(df.isnull(),cbar=False,yticklabels=False,cmap = 'viridis')"
   ]
  },
  {
   "cell_type": "markdown",
   "metadata": {},
   "source": [
    "# Stopwords analysis\n",
    "\n",
    "#### Before removing any extra words such as (is,the,or,a,etc.) we have a total of 2957159 words in comments+title+url+body\n",
    "\n",
    "#### We remove these redundant words as they might cause confusion in our predictions and can reduce the accuracy of our model. This is because they do not provide any significant feature or trait in predicting a particular flair."
   ]
  },
  {
   "cell_type": "code",
   "execution_count": 11,
   "metadata": {},
   "outputs": [
    {
     "name": "stdout",
     "output_type": "stream",
     "text": [
      "2957159\n"
     ]
    }
   ],
   "source": [
    "combination=df[\"comments\"]+df[\"title\"]+df[\"url\"]+df[\"body\"]\n",
    "print(combination.apply(lambda x: len(x.split(' '))).sum())"
   ]
  },
  {
   "cell_type": "markdown",
   "metadata": {},
   "source": [
    "# The uncleaned data can be seen below:"
   ]
  },
  {
   "cell_type": "code",
   "execution_count": 12,
   "metadata": {},
   "outputs": [
    {
     "data": {
      "text/plain": [
       "0    I am not even at my own house. Have paid both my maids because they are good people . They didn't have to ask me and I didn't tell them that I am doing it. It all boils down to how well you treat ...\n",
       "1    \\*cough\\* whoreshit \\*cough\\* Guy: *ready to hang from a ceiling fan*  \\n\\nIndian Government: We built the ceiling fan, it won't fall.  \\n\\nGuy: *hangs*  \\n\\nCeiling fan: *drops, guy breaks his le...\n",
       "2    Maybe US isn't a very attractive immigration target any more... it's a temporary ban bought under exceptional circumstances. Also it's a blanket ban. I don't think anyone has any reason to be wear...\n",
       "3    Well, now we just have to wait for the managers to come out and say \"all staff are essential, sab ko aana hein Thursday sein!\"\\n\\nOn a serious note, how will people go to office if literally every...\n",
       "4                                                                                                                                                                                                           \n",
       "5    Specifications of the tool they have asked for. \\n\\n1. Intelligence investigation platform & tactical tool to detect, prevent and investigate\\nthreats to national security using CDR, IPDR, Tower, ...\n",
       "6    What happened to ChaddiChandan's \"India Shack\"?\\n\\nDid AS app integrate aadhaar scam?\\n\\nIf fingerprint authentication fails, will the person be denied treatment as aadhaar scammers consider such ...\n",
       "7                                                                                                                                                                                                           \n",
       "8                                                                                                                                                                                                           \n",
       "9    What do you expect if you allow the market to be open only for a couple of hours? This is a market place where people do not seem to be caring anything about the virus. Lol what's the point of loc...\n",
       "Name: comments, dtype: object"
      ]
     },
     "execution_count": 12,
     "metadata": {},
     "output_type": "execute_result"
    }
   ],
   "source": [
    "pd.set_option('display.max_colwidth', 200)\n",
    "df['comments'].head(10)"
   ]
  },
  {
   "cell_type": "markdown",
   "metadata": {},
   "source": [
    "# Cleaned Data"
   ]
  },
  {
   "cell_type": "code",
   "execution_count": 13,
   "metadata": {},
   "outputs": [
    {
     "data": {
      "text/plain": [
       "0    even house paid maids good people didnt ask didnt tell boils well treat people general lots good making money help domestic help fuck people complete morons gave maid full months salary letting go...\n",
       "1    cough whoreshit cough guy ready hang ceiling fan indian government built ceiling fan wont fall guy hangs ceiling fan drops guy breaks legs indian government haha see guy didnt die hope true yeah t...\n",
       "2    maybe us isnt attractive immigration target temporary ban bought exceptional circumstances also blanket ban dont think anyone reason weary get clarifications us govt hey kai hope well actually app...\n",
       "3    well wait managers come say staff essential sab ko aana hein thursday seinon serious note people go office literally every mode transport shut get lathicharged dont bribe cops meet way bbmp buses ...\n",
       "4    deep rot west bengal covid19 lockdown mamata banerjee good reasons touchy centres factfinding attemptshttps://www.firstpost.com/health/deep-rot-in-west-bengal-during-covid-19-lockdown-mamata-baner...\n",
       "5    specifications tool asked 1 intelligence investigation platform tactical tool detect prevent investigatethreats national security using cdr ipdr tower mobile phone forensics data2 advanced analyti...\n",
       "6    happened chaddichandans india shackdid app integrate aadhaar scamif fingerprint authentication fails person denied treatment aadhaar scammers consider person farzi fraud ghost duplicateaarogya set...\n",
       "7    indian embassies undertake herculean task community outreachhttps://economictimes.indiatimes.com/news/politics-and-nation/indian-embassies-undertake-herculean-task-of-community-outreach/articlesho...\n",
       "8                                                                                mumbai hospital issues notice docs strike demanding safety kits asks return workhttps://www.youtube.com/watch?v=p_6j_xdANNU\n",
       "9    expect allow market open couple hours market place people seem caring anything virus lol whats point lockdown friend mizoram showing social distancing practiced ne states tbh people taking quite s...\n",
       "Name: comments_title_url_body, dtype: object"
      ]
     },
     "execution_count": 13,
     "metadata": {},
     "output_type": "execute_result"
    }
   ],
   "source": [
    "cleaned=pd.read_csv('redditlimit20.csv',sep=',')\n",
    "cleaned['comments_title_url_body'].head(10)"
   ]
  },
  {
   "cell_type": "markdown",
   "metadata": {},
   "source": [
    "# Number of words after cleaning the data have significantly reduced\n",
    "\n",
    "#### We now have 1698726 words in comments+title+url+body as compared to the 2957159 words\n",
    "#### Hence the stopwords comprised of 42.6% of the initial words"
   ]
  },
  {
   "cell_type": "code",
   "execution_count": 14,
   "metadata": {},
   "outputs": [
    {
     "name": "stdout",
     "output_type": "stream",
     "text": [
      "1698726\n"
     ]
    }
   ],
   "source": [
    "print(cleaned['comments_title_url_body'].apply(lambda x: len(x.split(' '))).sum())"
   ]
  },
  {
   "cell_type": "markdown",
   "metadata": {},
   "source": [
    "# Here we look at the mean number of comments on each flair category\n",
    "\n",
    "#### We observe that Scheduled and [R]eddiquette have more than usual comments and thus number of comments also showcase some traits that might be useful in predicting flair if a post belongs to these two categories.\n",
    "#### Politics also has more number of comments than the rest and cen be because of how active users become while descussing politics"
   ]
  },
  {
   "cell_type": "code",
   "execution_count": 15,
   "metadata": {},
   "outputs": [
    {
     "data": {
      "text/plain": [
       "<matplotlib.axes._subplots.AxesSubplot at 0x2033e6a5130>"
      ]
     },
     "execution_count": 15,
     "metadata": {},
     "output_type": "execute_result"
    },
    {
     "data": {
      "image/png": "[encoded data removed]",
      "text/plain": [
       "<Figure size 432x288 with 1 Axes>"
      ]
     },
     "metadata": {
      "needs_background": "light"
     },
     "output_type": "display_data"
    }
   ],
   "source": [
    "cleaned.groupby(\"flair\")['comms_num'].mean()\n",
    "cleaned.groupby(\"flair\")['comms_num'].mean().plot(kind='bar')"
   ]
  },
  {
   "cell_type": "markdown",
   "metadata": {},
   "source": [
    "# Here we look at the mean score of posts belonging to different flair category\n",
    "\n",
    "### score=upvotes-downvotes\n",
    "\n",
    "#### We can observe that Politics and Non-political have greater scores than the rest and hence while predicting scores can help if a post belong to any of the two categories"
   ]
  },
  {
   "cell_type": "code",
   "execution_count": 16,
   "metadata": {},
   "outputs": [
    {
     "data": {
      "text/plain": [
       "<matplotlib.axes._subplots.AxesSubplot at 0x2033e70c1f0>"
      ]
     },
     "execution_count": 16,
     "metadata": {},
     "output_type": "execute_result"
    },
    {
     "data": {
      "image/png": "[encoded data removed]",
      "text/plain": [
       "<Figure size 432x288 with 1 Axes>"
      ]
     },
     "metadata": {
      "needs_background": "light"
     },
     "output_type": "display_data"
    }
   ],
   "source": [
    "cleaned.groupby(\"flair\")['score'].mean()\n",
    "cleaned.groupby(\"flair\")['score'].mean().plot(kind='bar')"
   ]
  }
 ],
 "metadata": {
  "kernelspec": {
   "display_name": "Python 3",
   "language": "python",
   "name": "python3"
  },
  "language_info": {
   "codemirror_mode": {
    "name": "ipython",
    "version": 3
   },
   "file_extension": ".py",
   "mimetype": "text/x-python",
   "name": "python",
   "nbconvert_exporter": "python",
   "pygments_lexer": "ipython3",
   "version": "3.8.2"
  }
 },
 "nbformat": 4,
 "nbformat_minor": 4
}
