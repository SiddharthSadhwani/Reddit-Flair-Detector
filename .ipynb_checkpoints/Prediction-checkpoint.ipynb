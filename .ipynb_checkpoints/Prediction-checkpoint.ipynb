{
 "cells": [
  {
   "cell_type": "code",
   "execution_count": 8,
   "metadata": {},
   "outputs": [
    {
     "ename": "ModuleNotFoundError",
     "evalue": "No module named 'text_cleaning'",
     "output_type": "error",
     "traceback": [
      "\u001b[1;31m---------------------------------------------------------------------------\u001b[0m",
      "\u001b[1;31mModuleNotFoundError\u001b[0m                       Traceback (most recent call last)",
      "\u001b[1;32m<ipython-input-8-acb3cf6f0485>\u001b[0m in \u001b[0;36m<module>\u001b[1;34m\u001b[0m\n\u001b[0;32m     10\u001b[0m \u001b[1;32mimport\u001b[0m \u001b[0mpymongo\u001b[0m\u001b[1;33m\u001b[0m\u001b[1;33m\u001b[0m\u001b[0m\n\u001b[0;32m     11\u001b[0m \u001b[1;32mfrom\u001b[0m \u001b[0mpymongo\u001b[0m \u001b[1;32mimport\u001b[0m \u001b[0mMongoClient\u001b[0m\u001b[1;33m\u001b[0m\u001b[1;33m\u001b[0m\u001b[0m\n\u001b[1;32m---> 12\u001b[1;33m \u001b[1;32mimport\u001b[0m \u001b[0mtext_cleaning\u001b[0m\u001b[1;33m\u001b[0m\u001b[1;33m\u001b[0m\u001b[0m\n\u001b[0m",
      "\u001b[1;31mModuleNotFoundError\u001b[0m: No module named 'text_cleaning'"
     ]
    }
   ],
   "source": [
    "import praw\n",
    "import pickle\n",
    "import pandas as pd\n",
    "import datetime\n",
    "from bs4 import BeautifulSoup\n",
    "import re\n",
    "import nltk\n",
    "from nltk.corpus import stopwords\n",
    "import lxml\n",
    "import pymongo\n",
    "from pymongo import MongoClient"
   ]
  },
  {
   "cell_type": "code",
   "execution_count": 2,
   "metadata": {},
   "outputs": [],
   "source": [
    "reddit=praw.Reddit(client_id='Qq1MxtQ9YVNXgA', \\\n",
    "                     client_secret='hg00d83IEYWEAAT0RdFzm50zm5E', \\\n",
    "                     user_agent='testing', \\\n",
    "                     username='mic_testing123', \\\n",
    "                     password='Cookies')"
   ]
  },
  {
   "cell_type": "code",
   "execution_count": 3,
   "metadata": {},
   "outputs": [],
   "source": [
    "REPLACE_BY_SPACE_RE = re.compile('[/(){}\\[\\]\\|@,;]')\n",
    "STOPWORDS=set(stopwords.words('english'))\n",
    "BAD_SYMBOLS_RE = re.compile('[^0-9a-z #+_]')\n",
    "\n",
    "def string_form(value):\n",
    "    return str(value)\n",
    "\n",
    "def clean_text(text):\n",
    "    text = BeautifulSoup(text, \"lxml\").text # HTML decoding\n",
    "    text = text.lower() # lowercase text\n",
    "    text = REPLACE_BY_SPACE_RE.sub(' ', text) # replace REPLACE_BY_SPACE_RE symbols by space in text\n",
    "    text = BAD_SYMBOLS_RE.sub('', text) # delete symbols which are in BAD_SYMBOLS_RE from text\n",
    "    text = ' '.join(word for word in text.split() if word not in STOPWORDS) # delete stopwors from text\n",
    "    return text"
   ]
  },
  {
   "cell_type": "code",
   "execution_count": 4,
   "metadata": {},
   "outputs": [
    {
     "name": "stdout",
     "output_type": "stream",
     "text": [
      "https://www.reddit.com/r/india/comments/g6l0zm/caa_protestors_forced_into_hiding_as_up_police/\n"
     ]
    }
   ],
   "source": [
    "userLink=input()\n",
    "sub=reddit.submission(url=userLink)\n",
    "posts=[]"
   ]
  },
  {
   "cell_type": "code",
   "execution_count": 5,
   "metadata": {},
   "outputs": [
    {
     "data": {
      "text/html": [
       "<div>\n",
       "<style scoped>\n",
       "    .dataframe tbody tr th:only-of-type {\n",
       "        vertical-align: middle;\n",
       "    }\n",
       "\n",
       "    .dataframe tbody tr th {\n",
       "        vertical-align: top;\n",
       "    }\n",
       "\n",
       "    .dataframe thead th {\n",
       "        text-align: right;\n",
       "    }\n",
       "</style>\n",
       "<table border=\"1\" class=\"dataframe\">\n",
       "  <thead>\n",
       "    <tr style=\"text-align: right;\">\n",
       "      <th></th>\n",
       "      <th>title</th>\n",
       "      <th>url</th>\n",
       "      <th>body</th>\n",
       "      <th>comments</th>\n",
       "    </tr>\n",
       "  </thead>\n",
       "  <tbody>\n",
       "    <tr>\n",
       "      <th>0</th>\n",
       "      <td>CAA: Protestors Forced Into Hiding, As UP Poli...</td>\n",
       "      <td>https://www.huffingtonpost.in/entry/caa-varana...</td>\n",
       "      <td></td>\n",
       "      <td>Protest used to be a, fundamental right till 2...</td>\n",
       "    </tr>\n",
       "  </tbody>\n",
       "</table>\n",
       "</div>"
      ],
      "text/plain": [
       "                                               title  \\\n",
       "0  CAA: Protestors Forced Into Hiding, As UP Poli...   \n",
       "\n",
       "                                                 url body  \\\n",
       "0  https://www.huffingtonpost.in/entry/caa-varana...        \n",
       "\n",
       "                                            comments  \n",
       "0  Protest used to be a, fundamental right till 2...  "
      ]
     },
     "execution_count": 5,
     "metadata": {},
     "output_type": "execute_result"
    }
   ],
   "source": [
    "title=sub.title\n",
    "url=sub.url\n",
    "body=sub.selftext\n",
    "sub.comments.replace_more(limit=0)\n",
    "st=''\n",
    "for c in sub.comments.list():\n",
    "    count=0\n",
    "    if count<=30:\n",
    "        st=st+c.body+' '\n",
    "        count=+1\n",
    "    else:\n",
    "        break\n",
    "comments=st\n",
    "posts.append([title,url,body,comments])\n",
    "data=pd.DataFrame(posts,columns=['title','url','body','comments'])\n",
    "\n",
    "data.head()"
   ]
  },
  {
   "cell_type": "code",
   "execution_count": 6,
   "metadata": {},
   "outputs": [],
   "source": [
    "data[\"title\"]=data[\"title\"].apply(string_form)\n",
    "data[\"body\"]=data[\"body\"].apply(string_form)\n",
    "data[\"comments\"]=data[\"comments\"].apply(string_form)\n",
    "\n",
    "data[\"title\"]=data[\"title\"].apply(clean_text)\n",
    "data[\"body\"]=data[\"body\"].apply(clean_text)\n",
    "data[\"comments\"]=data[\"comments\"].apply(clean_text)\n",
    "\n",
    "combination=data[\"comments\"]+data[\"title\"]+data[\"url\"]+data[\"body\"]"
   ]
  },
  {
   "cell_type": "code",
   "execution_count": 7,
   "metadata": {},
   "outputs": [
    {
     "name": "stdout",
     "output_type": "stream",
     "text": [
      "['Politics']\n"
     ]
    }
   ],
   "source": [
    "loaded_model=pickle.load(open(\"SVM_ctbu.sav\",'rb'))\n",
    "predicted_flair=loaded_model.predict(combination)\n",
    "print(str(predicted_flair))"
   ]
  }
 ],
 "metadata": {
  "kernelspec": {
   "display_name": "Python 3",
   "language": "python",
   "name": "python3"
  },
  "language_info": {
   "codemirror_mode": {
    "name": "ipython",
    "version": 3
   },
   "file_extension": ".py",
   "mimetype": "text/x-python",
   "name": "python",
   "nbconvert_exporter": "python",
   "pygments_lexer": "ipython3",
   "version": "3.8.2"
  }
 },
 "nbformat": 4,
 "nbformat_minor": 4
}
